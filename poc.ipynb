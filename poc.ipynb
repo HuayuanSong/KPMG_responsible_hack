{
 "cells": [
  {
   "cell_type": "code",
   "execution_count": null,
   "metadata": {},
   "outputs": [],
   "source": [
    "import pandas as pd\n",
    "import fasttext\n",
    "import fasttext.util\n",
    "import sister\n",
    "import numpy as np\n",
    "from tqdm import tqdm\n",
    "import pickle \n",
    "from sklearn.neighbors import KNeighborsClassifier\n",
    "\n",
    "df_train = pd.read_excel('Data/Data/labelledMessages_parentsGroup.xlsx')\n",
    "df_train\n"
   ]
  },
  {
   "cell_type": "code",
   "execution_count": null,
   "metadata": {},
   "outputs": [],
   "source": [
    "list(df_train[\"Department\"].unique())"
   ]
  },
  {
   "cell_type": "code",
   "execution_count": null,
   "metadata": {},
   "outputs": [],
   "source": [
    "df_train_comms = df_train.loc[df_train['Department'] == \"Comms\",:]\n",
    "df_train_comms = df_train_comms.reset_index(drop=True)\n",
    "df_train_comms"
   ]
  },
  {
   "cell_type": "code",
   "execution_count": null,
   "metadata": {},
   "outputs": [],
   "source": [
    "df_train_nutrition = df_train.loc[df_train['Department'] == 'Nutrition',:]\n",
    "df_train_nutrition = df_train_nutrition.reset_index(drop=True)\n",
    "df_train_nutrition"
   ]
  },
  {
   "cell_type": "code",
   "execution_count": null,
   "metadata": {},
   "outputs": [],
   "source": [
    "df_train_business = df_train.loc[df_train['Department'] == 'Business',:]\n",
    "df_train_business = df_train_business.reset_index(drop=True)\n",
    "df_train_business"
   ]
  },
  {
   "cell_type": "code",
   "execution_count": null,
   "metadata": {},
   "outputs": [],
   "source": [
    "df_train_data_tech = df_train.loc[df_train['Department'] == 'Data&Tech',:]\n",
    "df_train_data_tech = df_train_data_tech.reset_index(drop=True)\n",
    "df_train_data_tech"
   ]
  },
  {
   "cell_type": "code",
   "execution_count": null,
   "metadata": {},
   "outputs": [],
   "source": [
    "df_train_ecd = df_train.loc[df_train['Department'] == 'ECD',:]\n",
    "df_train_ecd = df_train_ecd.reset_index(drop=True)\n",
    "df_train_ecd"
   ]
  },
  {
   "cell_type": "code",
   "execution_count": null,
   "metadata": {},
   "outputs": [],
   "source": [
    "df_train_m_and_l = df_train.loc[df_train['Department'] == 'M&L',:]\n",
    "df_train_m_and_l = df_train_m_and_l.reset_index(drop=True)\n",
    "df_train_m_and_l\n"
   ]
  },
  {
   "cell_type": "code",
   "execution_count": null,
   "metadata": {},
   "outputs": [],
   "source": [
    "df_train_sales = df_train.loc[df_train['Department'] == 'Sales',:]\n",
    "df_train_sales = df_train_sales.reset_index(drop=True)\n",
    "df_train_sales"
   ]
  },
  {
   "cell_type": "code",
   "execution_count": null,
   "metadata": {},
   "outputs": [],
   "source": [
    "df_train_all_departments = df_train.loc[df_train['Department'] == 'All departments',:]\n",
    "df_train_all_departments = df_train_all_departments.reset_index(drop=True)\n",
    "df_train_all_departments"
   ]
  },
  {
   "cell_type": "code",
   "execution_count": null,
   "metadata": {},
   "outputs": [],
   "source": [
    "df_train_network_acquisition = df_train.loc[df_train['Department'] == 'Network Acquision',:]\n",
    "df_train_network_acquisition = df_train_network_acquisition.reset_index(drop=True)\n",
    "df_train_network_acquisition\n"
   ]
  },
  {
   "cell_type": "code",
   "execution_count": null,
   "metadata": {},
   "outputs": [],
   "source": [
    "df_train_tech = df_train.loc[df_train['Department'] == 'Tech',:]\n",
    "df_train_tech = df_train_tech.reset_index(drop=True)\n",
    "df_train_tech\n",
    "\n"
   ]
  },
  {
   "cell_type": "code",
   "execution_count": null,
   "metadata": {},
   "outputs": [],
   "source": [
    "small_df = pd.concat([df_train_comms, df_train_nutrition, df_train_business, df_train_data_tech, df_train_ecd, df_train_m_and_l, df_train_sales, df_train_all_departments, df_train_network_acquisition, df_train_tech], axis=0)\n",
    "small_df = small_df.reset_index(drop=True)\n",
    "small_final = small_df[[\"Department\", \"Request\"]]\n",
    "small_final"
   ]
  },
  {
   "cell_type": "code",
   "execution_count": null,
   "metadata": {},
   "outputs": [],
   "source": [
    "bert_embedding = sister.BertEmbedding(lang=\"en\")\n",
    "df_test = small_final['Request']\n",
    "# Convert to array for loop\n",
    "df_np = df_test.to_numpy()\n",
    "\n",
    "# Get sentence embedding for every element\n",
    "for i in tqdm(range(np.shape(df_np)[0])):\n",
    "    df_np[i] = bert_embedding(df_np[i])"
   ]
  },
  {
   "cell_type": "code",
   "execution_count": null,
   "metadata": {},
   "outputs": [],
   "source": [
    "print(len(df_np))"
   ]
  },
  {
   "cell_type": "code",
   "execution_count": null,
   "metadata": {},
   "outputs": [],
   "source": [
    "small_final[\"Department\"] = small_final[\"Department\"].map({\"Comms\": 0, 'Nutrition': 1, 'Business': 2, 'Data&Tech': 3, 'ECD':4, 'M&L': 5, 'Sales': 6, 'All departments': 7, 'Network Acquision':8, 'Tech':9})"
   ]
  },
  {
   "cell_type": "code",
   "execution_count": null,
   "metadata": {},
   "outputs": [],
   "source": [
    "df_np= [list(x) for x in df_np]\n",
    "\n",
    "print(df_np[0])"
   ]
  },
  {
   "cell_type": "code",
   "execution_count": null,
   "metadata": {},
   "outputs": [],
   "source": [
    "neigh = KNeighborsClassifier(n_neighbors=5)\n",
    "neigh.fit(df_np, small_final['Department'].to_list())"
   ]
  },
  {
   "cell_type": "code",
   "execution_count": null,
   "metadata": {},
   "outputs": [],
   "source": [
    "print(neigh.predict([bert_embedding(\" [WORD_NUMBER] What is credit? When you allow a customer to pay for goods or services later [WORD_NUMBER] What is credit management? It is the process of making an agreement on how the credit will be paid and making sure that the payment is made as per the agreement [WORD_NUMBER] Where do you record credit given in your business? In a credit book\")]))"
   ]
  },
  {
   "cell_type": "code",
   "execution_count": null,
   "metadata": {},
   "outputs": [],
   "source": [
    "import pickle\n",
    "# Its important to use binary mode \n",
    "knnPickle = open('knnpickle_file', 'wb') \n",
    "      \n",
    "# source, destination \n",
    "pickle.dump(neigh, knnPickle)  \n",
    "\n",
    "# close the file\n",
    "knnPickle.close()\n",
    "                \n",
    "      \n",
    "# load the model from disk\n",
    "loaded_model = pickle.load(open('knnpickle_file', 'rb'))\n",
    "#result = loaded_model.predict(X_test) "
   ]
  },
  {
   "cell_type": "code",
   "execution_count": null,
   "metadata": {},
   "outputs": [],
   "source": [
    "loaded_model.predict([bert_embedding(\" [WORD_NUMBER] What is credit? When you allow a customer to pay for goods or services later [WORD_NUMBER] What is credit management? It is the process of making an agreement on how the credit will be paid and making sure that the payment is made as per the agreement [WORD_NUMBER] Where do you record credit given in your business? In a credit book\")])"
   ]
  },
  {
   "cell_type": "code",
   "execution_count": null,
   "metadata": {},
   "outputs": [],
   "source": [
    "clean_data = pd.read_csv('processed_data.csv')"
   ]
  },
  {
   "cell_type": "code",
   "execution_count": null,
   "metadata": {},
   "outputs": [],
   "source": [
    "clean_data = clean_data.dropna()"
   ]
  },
  {
   "cell_type": "code",
   "execution_count": null,
   "metadata": {},
   "outputs": [],
   "source": [
    "clean_data"
   ]
  },
  {
   "cell_type": "code",
   "execution_count": null,
   "metadata": {},
   "outputs": [],
   "source": [
    "clean_data_eng = clean_data['English']\n",
    "\n",
    "#clean_data_eng = clean_data_eng.astype(str)\n",
    "\n",
    "\n",
    "# Convert to array for loop\n",
    "df_np = clean_data_eng.to_numpy()\n",
    "\n",
    "# Get sentence embedding for every element\n",
    "for i in tqdm(range(np.shape(df_np)[0])):\n",
    "    df_np[i] = bert_embedding(df_np[i])"
   ]
  },
  {
   "cell_type": "code",
   "execution_count": null,
   "metadata": {},
   "outputs": [],
   "source": [
    "df_np = [list(x) for x in df_np]"
   ]
  },
  {
   "cell_type": "code",
   "execution_count": null,
   "metadata": {},
   "outputs": [],
   "source": [
    "len(df_np)"
   ]
  },
  {
   "cell_type": "code",
   "execution_count": null,
   "metadata": {},
   "outputs": [],
   "source": [
    "len(clean_data['Department'])"
   ]
  },
  {
   "cell_type": "code",
   "execution_count": null,
   "metadata": {},
   "outputs": [],
   "source": [
    "print(len(df_np))"
   ]
  },
  {
   "cell_type": "code",
   "execution_count": null,
   "metadata": {},
   "outputs": [],
   "source": [
    "clean_data['Department']"
   ]
  },
  {
   "cell_type": "code",
   "execution_count": null,
   "metadata": {},
   "outputs": [],
   "source": [
    "labels = clean_data[\"Department\"].map({\"Comms\": 0, 'Nutrition': 1, 'Business': 2, 'Data&Tech': 3, 'ECD':4, 'M&L': 5, 'Sales': 6, 'All departments': 7, 'Network Acquision':8, 'Tech':9})"
   ]
  },
  {
   "cell_type": "code",
   "execution_count": null,
   "metadata": {},
   "outputs": [],
   "source": [
    "count = np.isinf(labels).values.sum()\n",
    "print(\"It contains \" + str(count) + \" infinite values\")"
   ]
  },
  {
   "cell_type": "code",
   "execution_count": null,
   "metadata": {},
   "outputs": [],
   "source": [
    "new_list = []\n",
    "for i in labels.tolist():\n",
    "    try:\n",
    "        new_list.append(int(i))\n",
    "    except ValueError:\n",
    "        new_list.append(4)\n"
   ]
  },
  {
   "cell_type": "code",
   "execution_count": null,
   "metadata": {},
   "outputs": [],
   "source": [
    "print(len(new_list))"
   ]
  },
  {
   "cell_type": "code",
   "execution_count": null,
   "metadata": {},
   "outputs": [],
   "source": [
    "neigh = KNeighborsClassifier(n_neighbors=5)\n",
    "neigh.fit(df_np[], new_list)"
   ]
  },
  {
   "cell_type": "code",
   "execution_count": null,
   "metadata": {},
   "outputs": [],
   "source": [
    "df_clean_data['Department']"
   ]
  },
  {
   "cell_type": "code",
   "execution_count": null,
   "metadata": {},
   "outputs": [],
   "source": [
    "import pickle\n",
    "# Its important to use binary mode \n",
    "knnPickle = open('knnpickle_file_eng', 'wb') \n",
    "      \n",
    "# source, destination \n",
    "pickle.dump(neigh, knnPickle)  \n",
    "\n",
    "# close the file\n",
    "knnPickle.close()"
   ]
  },
  {
   "cell_type": "code",
   "execution_count": null,
   "metadata": {},
   "outputs": [],
   "source": [
    "a = [{'label': 'anger', 'score': 0.022079749032855034}, {'label': 'disgust', 'score': 0.0185292586684227}, {'label': 'fear', 'score': 0.010197275318205357}, {'label': 'joy', 'score': 0.8553909659385681}, {'label': 'neutral', 'score': 0.08598770946264267}, {'label': 'sadness', 'score': 0.0030078247655183077}, {'label': 'surprise', 'score': 0.0048072440549731255}]"
   ]
  },
  {
   "cell_type": "code",
   "execution_count": null,
   "metadata": {},
   "outputs": [],
   "source": [
    "import operator\n",
    "a.sort(key=operator.itemgetter('score'))\n",
    "a[-1][\"label\"]\n"
   ]
  },
  {
   "cell_type": "code",
   "execution_count": null,
   "metadata": {},
   "outputs": [],
   "source": [
    "import matplotlib.pyplot as plt\n",
    "import numpy as np\n",
    "\n",
    "# Generate some fake data\n",
    "time = np.arange(1, 11)\n",
    "positive_sentiment = np.random.randint(10, 50, 10)\n",
    "negative_sentiment = np.random.randint(10, 50, 10)\n",
    "\n",
    "# Create a barplot\n",
    "fig, ax = plt.subplots(figsize=(8, 6))\n",
    "ax.bar(time, positive_sentiment, width=0.4, align='center', label='Positive')\n",
    "ax.bar(time+0.4, negative_sentiment, width=0.4, align='center', label='Negative')\n",
    "\n",
    "# Add some labels and title\n",
    "ax.set_xlabel('Time')\n",
    "ax.set_ylabel('Sentiment')\n",
    "ax.set_title('Sentiment over Time')\n",
    "ax.set_xticks(time+0.2)\n",
    "ax.set_xticklabels(time)\n",
    "ax.legend()\n",
    "\n",
    "# Show the plot\n",
    "plt.show()"
   ]
  },
  {
   "cell_type": "code",
   "execution_count": null,
   "metadata": {},
   "outputs": [],
   "source": [
    "import matplotlib.pyplot as plt\n",
    "import numpy as np\n",
    "import calendar\n",
    "\n",
    "# Generate some fake data\n",
    "time = np.arange(1, 8)\n",
    "positive_sentiment = np.random.randint(10, 50, 7)\n",
    "negative_sentiment = np.random.randint(10, 50, 7)\n",
    "\n",
    "# Create a barplot\n",
    "fig, ax = plt.subplots(figsize=(8, 6))\n",
    "ax.bar(time, positive_sentiment, width=0.4, align='center', label='Positive')\n",
    "ax.bar(time+0.4, negative_sentiment, width=0.4, align='center', label='Negative')\n",
    "\n",
    "# Set the x tick labels to weekday names\n",
    "weekday_names = list(calendar.day_name)\n",
    "ax.set_xticks(time+0.2)\n",
    "ax.set_xticklabels(weekday_names)\n",
    "\n",
    "# Add some labels and title\n",
    "ax.set_xlabel('Weekday')\n",
    "ax.set_ylabel('Sentiment')\n",
    "ax.set_title('Sentiment over Weekdays')\n",
    "ax.legend()\n",
    "\n",
    "# Show the plot\n",
    "plt.show()\n"
   ]
  },
  {
   "cell_type": "code",
   "execution_count": null,
   "metadata": {},
   "outputs": [],
   "source": [
    "import matplotlib.pyplot as plt\n",
    "import seaborn as sns\n",
    "import numpy as np\n",
    "import calendar\n",
    "\n",
    "# Generate some fake data\n",
    "time = np.arange(1, 8)\n",
    "positive_sentiment = np.random.randint(10, 50, 7)\n",
    "negative_sentiment = np.random.randint(10, 50, 7)\n",
    "\n",
    "# Set the Seaborn theme and style\n",
    "sns.set_theme(style=\"ticks\", context=\"talk\")\n",
    "\n",
    "# Create a barplot\n",
    "fig, ax = plt.subplots(figsize=(8, 6))\n",
    "sns.barplot(x=time, y=positive_sentiment, color='green', alpha=0.8, label='Positive', ax=ax)\n",
    "sns.barplot(x=time, y=negative_sentiment, color='red', alpha=0.8, label='Negative', ax=ax)\n",
    "\n",
    "# Set the x tick labels to weekday names\n",
    "weekday_names = list(calendar.day_name)\n",
    "ax.set_xticks(time)\n",
    "ax.set_xticklabels(weekday_names)\n",
    "\n",
    "# Add some labels and title\n",
    "ax.set_xlabel('Weekday')\n",
    "ax.set_ylabel('Sentiment')\n",
    "ax.set_title('Sentiment over Weekdays')\n",
    "ax.legend()\n",
    "\n",
    "# Customize the style\n",
    "sns.despine(trim=True)\n",
    "ax.xaxis.grid(False)\n",
    "ax.set_yticks([])\n",
    "\n",
    "# Show the plot\n",
    "plt.show()\n"
   ]
  },
  {
   "cell_type": "code",
   "execution_count": null,
   "metadata": {},
   "outputs": [],
   "source": [
    "print(len(df_np))\n",
    "\n"
   ]
  },
  {
   "cell_type": "code",
   "execution_count": null,
   "metadata": {},
   "outputs": [],
   "source": [
    "import numpy as np\n",
    "from sklearn.model_selection import train_test_split\n",
    "\n",
    "X_train, X_test, y_train, y_test = train_test_split(df_np, new_list, test_size=0.2, random_state=77)\n",
    "\n",
    "neigh = KNeighborsClassifier(n_neighbors=5)\n",
    "neigh.fit(X_train, y_train)"
   ]
  },
  {
   "cell_type": "code",
   "execution_count": null,
   "metadata": {},
   "outputs": [],
   "source": [
    "from sklearn.metrics import accuracy_score\n",
    "# Make predictions on test data\n",
    "y_pred = neigh.predict(X_test)\n",
    "\n",
    "# Compute test accuracy\n",
    "accuracy = accuracy_score(y_test, y_pred)\n",
    "\n",
    "accuracy"
   ]
  },
  {
   "cell_type": "code",
   "execution_count": null,
   "metadata": {},
   "outputs": [],
   "source": []
  }
 ],
 "metadata": {
  "kernelspec": {
   "display_name": "base",
   "language": "python",
   "name": "python3"
  },
  "language_info": {
   "codemirror_mode": {
    "name": "ipython",
    "version": 3
   },
   "file_extension": ".py",
   "mimetype": "text/x-python",
   "name": "python",
   "nbconvert_exporter": "python",
   "pygments_lexer": "ipython3",
   "version": "3.8.8"
  },
  "orig_nbformat": 4
 },
 "nbformat": 4,
 "nbformat_minor": 2
}
