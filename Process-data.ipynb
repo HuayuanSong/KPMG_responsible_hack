{
 "cells": [
  {
   "cell_type": "code",
   "execution_count": null,
   "metadata": {},
   "outputs": [],
   "source": [
    "import pandas as pd\n",
    "#from googletrans import Translator\n",
    "#from google_trans_new import google_translator\n",
    "from deep_translator import GoogleTranslator"
   ]
  },
  {
   "cell_type": "code",
   "execution_count": null,
   "metadata": {},
   "outputs": [],
   "source": [
    "df_G1 = pd.DataFrame(pd.read_excel(\"messages_parentsGroup1.xlsx\"))\n",
    "df_G2 = pd.DataFrame(pd.read_excel(\"messages_parentsGroup2.xlsx\"))\n",
    "df_m = pd.DataFrame(pd.read_excel(\"messages_managersGroup.xlsx\"))\n",
    "df_label_parents = pd.DataFrame(pd.read_excel(\"labelledMessages_parentsGroup.xlsx\"))\n",
    "df_label_managers = pd.DataFrame(pd.read_excel(\"labelledMessages_managersGroup.xlsx\"))"
   ]
  },
  {
   "cell_type": "code",
   "execution_count": null,
   "metadata": {},
   "outputs": [],
   "source": [
    "df_G1.describe()"
   ]
  },
  {
   "cell_type": "code",
   "execution_count": null,
   "metadata": {},
   "outputs": [],
   "source": [
    "df_G1.head()"
   ]
  },
  {
   "cell_type": "code",
   "execution_count": null,
   "metadata": {},
   "outputs": [],
   "source": [
    "df_G1['message'] = df_G1['message'].replace('\\n', '', regex=True)\n",
    "df_G2['message'] = df_G2['message'].replace('\\n', '', regex=True)\n",
    "df_m['message'] = df_m['message'].replace('\\n', '', regex=True)\n",
    "df_label_managers[['Originalpost']] = df_label_managers[['Originalpost']].replace('\\n', '', regex=True)\n",
    "df_label_parents[['Request', 'Originalpost']] = df_label_parents[['Request', 'Originalpost']].replace('\\n', '', regex=True)"
   ]
  },
  {
   "cell_type": "code",
   "execution_count": null,
   "metadata": {},
   "outputs": [],
   "source": [
    "df_G1.head()"
   ]
  },
  {
   "cell_type": "code",
   "execution_count": null,
   "metadata": {},
   "outputs": [],
   "source": [
    "df_G1 = df_G1.applymap(lambda x: x.strip() if isinstance(x, str) else x)\n",
    "df_G2 = df_G2.applymap(lambda x: x.strip() if isinstance(x, str) else x)\n",
    "df_m = df_m.applymap(lambda x: x.strip() if isinstance(x, str) else x)\n",
    "df_label_managers = df_label_managers.applymap(lambda x: x.strip() if isinstance(x, str) else x)\n",
    "df_label_parents = df_label_parents.applymap(lambda x: x.strip() if isinstance(x, str) else x)"
   ]
  },
  {
   "cell_type": "code",
   "execution_count": null,
   "metadata": {},
   "outputs": [],
   "source": [
    "df_label_managers.describe()"
   ]
  },
  {
   "cell_type": "code",
   "execution_count": null,
   "metadata": {},
   "outputs": [],
   "source": [
    "print(df_label_managers.isna().sum())"
   ]
  },
  {
   "cell_type": "code",
   "execution_count": null,
   "metadata": {},
   "outputs": [],
   "source": [
    "df_label_managers = df_label_managers.dropna(subset=['TopicSummary'])\n",
    "df_label_managers[['NumberofVideos', 'Participants', 'ParticipantsReadingpost']] = df_label_managers[['NumberofVideos', 'Participants', 'ParticipantsReadingpost']].fillna(0)\n",
    "print(df_label_managers.isna().sum())\n"
   ]
  },
  {
   "cell_type": "code",
   "execution_count": null,
   "metadata": {},
   "outputs": [],
   "source": [
    "counts = df_label_managers['TopicSummary'].value_counts()\n",
    "print(counts)"
   ]
  },
  {
   "cell_type": "code",
   "execution_count": null,
   "metadata": {},
   "outputs": [],
   "source": [
    "print(df_label_parents.isna().sum())"
   ]
  },
  {
   "cell_type": "code",
   "execution_count": null,
   "metadata": {},
   "outputs": [],
   "source": [
    "df_label_parents = df_label_parents.dropna(subset=['Department', 'DaycareManagers', 'TopicSummary'])\n",
    "df_label_parents[['Numberofvideos', 'Manager\\'sreadingposts']] = df_label_parents[['Numberofvideos', 'Manager\\'sreadingposts']].fillna(0)\n",
    "print(df_label_parents.isna().sum())\n",
    "\n",
    "df_label_parents.head()"
   ]
  },
  {
   "cell_type": "code",
   "execution_count": null,
   "metadata": {},
   "outputs": [],
   "source": [
    "counts = df_label_parents['Department'].value_counts()\n",
    "print(counts)"
   ]
  },
  {
   "cell_type": "code",
   "execution_count": null,
   "metadata": {},
   "outputs": [],
   "source": [
    "counts = df_label_parents['TopicSummary'].value_counts()\n",
    "print(counts)"
   ]
  },
  {
   "cell_type": "code",
   "execution_count": null,
   "metadata": {},
   "outputs": [],
   "source": [
    "messages_labeled = df_label_parents[['Department', 'Request']]\n",
    "messages_labeled"
   ]
  },
  {
   "cell_type": "code",
   "execution_count": null,
   "metadata": {},
   "outputs": [],
   "source": [
    "def translate_text(text):\n",
    "    #translator = GoogleTranslator\n",
    "    translated = GoogleTranslator(source='auto', target='en').translate(text)\n",
    "    return translated"
   ]
  },
  {
   "cell_type": "code",
   "execution_count": null,
   "metadata": {},
   "outputs": [],
   "source": [
    "#messages_labeled.loc[:, 'English'] = ''\n",
    "messages_labeled['English'] = messages_labeled['Request'].apply(translate_text)\n",
    "messages_labeled"
   ]
  },
  {
   "cell_type": "code",
   "execution_count": null,
   "metadata": {},
   "outputs": [],
   "source": [
    "messages_labeled = messages_labeled.drop('Request', axis=1).rename(columns={'English': 'Text'})\n",
    "messages_labeled.to_csv('processed_data.csv', index=False)"
   ]
  },
  {
   "cell_type": "code",
   "execution_count": null,
   "metadata": {},
   "outputs": [],
   "source": [
    "messages_labeled"
   ]
  },
  {
   "cell_type": "code",
   "execution_count": null,
   "metadata": {},
   "outputs": [],
   "source": [
    "mask = messages_labeled['Text'].str.contains('photo')\n",
    "result = messages_labeled[mask]\n",
    "print(result)"
   ]
  },
  {
   "cell_type": "code",
   "execution_count": null,
   "metadata": {},
   "outputs": [],
   "source": [
    "value_counts = result['Department'].value_counts()\n",
    "print(value_counts)"
   ]
  },
  {
   "cell_type": "code",
   "execution_count": null,
   "metadata": {},
   "outputs": [],
   "source": [
    "mask = messages_labeled['Text'].str.contains('video')\n",
    "filtered_df = messages_labeled[mask]\n",
    "print(filtered_df)"
   ]
  },
  {
   "cell_type": "code",
   "execution_count": null,
   "metadata": {},
   "outputs": [],
   "source": [
    "value_counts = filtered_df['Department'].value_counts()\n",
    "print(value_counts)"
   ]
  }
 ],
 "metadata": {
  "kernelspec": {
   "display_name": "Python 3",
   "language": "python",
   "name": "python3"
  },
  "language_info": {
   "codemirror_mode": {
    "name": "ipython",
    "version": 3
   },
   "file_extension": ".py",
   "mimetype": "text/x-python",
   "name": "python",
   "nbconvert_exporter": "python",
   "pygments_lexer": "ipython3",
   "version": "3.9.13"
  },
  "orig_nbformat": 4
 },
 "nbformat": 4,
 "nbformat_minor": 2
}
